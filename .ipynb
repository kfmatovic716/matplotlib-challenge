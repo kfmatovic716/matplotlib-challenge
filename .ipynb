{
 "cells": [
  {
   "cell_type": "markdown",
   "metadata": {},
   "source": [
    "## Observations and Insights "
   ]
  },
  {
   "cell_type": "code",
   "execution_count": 1,
   "metadata": {},
   "outputs": [
    {
     "name": "stderr",
     "output_type": "stream",
     "text": [
      "C:\\Users\\jabuk\\Anaconda3\\lib\\site-packages\\statsmodels\\tools\\_testing.py:19: FutureWarning: pandas.util.testing is deprecated. Use the functions in the public API at pandas.testing instead.\n",
      "  import pandas.util.testing as tm\n"
     ]
    }
   ],
   "source": [
    "# Dependencies and Setup\n",
    "import matplotlib.pyplot as plt\n",
    "import pandas as pd\n",
    "import scipy.stats as st\n",
    "import numpy as np\n",
    "import seaborn as sns\n",
    "from scipy import stats\n",
    "plt.style.use('seaborn')\n",
    "\n",
    "# Study data files\n",
    "mouse_metadata_path = \"data/Mouse_metadata.csv\"\n",
    "study_results_path = \"data/Study_results.csv\"\n",
    "\n",
    "# Read the mouse data and the study results\n",
    "mouse_metadata = pd.read_csv(mouse_metadata_path)\n",
    "study_results = pd.read_csv(study_results_path)\n",
    "\n",
    "# Combines the data into a single dataset\n",
    "mouse_study_df = pd.merge(mouse_metadata, study_results, how=\"left\", on=[\"Mouse ID\", \"Mouse ID\"])"
   ]
  },
  {
   "cell_type": "code",
   "execution_count": 2,
   "metadata": {},
   "outputs": [
    {
     "data": {
      "text/plain": [
       "249"
      ]
     },
     "execution_count": 2,
     "metadata": {},
     "output_type": "execute_result"
    }
   ],
   "source": [
    "# Checks the total number of mice in rawdata\n",
    "len(mouse_study_df[\"Mouse ID\"].unique())"
   ]
  },
  {
   "cell_type": "code",
   "execution_count": 3,
   "metadata": {},
   "outputs": [],
   "source": [
    "# Finds the mice with duplicated Mouse ID and Timepoint \n",
    "id_duplicates = mouse_study_df.duplicated([\"Mouse ID\", \"Timepoint\"], keep=False)\n",
    "\n",
    "# Filters for duplicated mouse ID\n",
    "duplicate_mice = mouse_study_df.loc[id_duplicates, :]"
   ]
  },
  {
   "cell_type": "code",
   "execution_count": 4,
   "metadata": {},
   "outputs": [
    {
     "data": {
      "text/plain": [
       "'g989'"
      ]
     },
     "execution_count": 4,
     "metadata": {},
     "output_type": "execute_result"
    }
   ],
   "source": [
    "#Finds the index location of duplicate Mice ID\n",
    "dup_miceID = duplicate_mice[\"Mouse ID\"].unique()\n",
    "dup_miceID[0]"
   ]
  },
  {
   "cell_type": "code",
   "execution_count": 5,
   "metadata": {},
   "outputs": [],
   "source": [
    "# Excludes the duplicate mouse from the data using the Mouse ID index location above\n",
    "duplicate_mouseID = mouse_study_df['Mouse ID']!= dup_miceID[0]\n",
    "\n",
    "#Creates a clean df without any duplicates\n",
    "clean_data = mouse_study_df.loc[duplicate_mouseID, :]"
   ]
  },
  {
   "cell_type": "code",
   "execution_count": 6,
   "metadata": {},
   "outputs": [
    {
     "data": {
      "text/plain": [
       "248"
      ]
     },
     "execution_count": 6,
     "metadata": {},
     "output_type": "execute_result"
    }
   ],
   "source": [
    "# Checks the number of mice in the clean df to make sure duplicate was deleted\n",
    "len(clean_data[\"Mouse ID\"].unique())"
   ]
  },
  {
   "cell_type": "markdown",
   "metadata": {},
   "source": [
    "## Summary Statistics of the Tumor Volume for each Drug Regimen\n",
    "#### Table of mean, median, variance, standard deviation and SEM"
   ]
  },
  {
   "cell_type": "code",
   "execution_count": 7,
   "metadata": {},
   "outputs": [],
   "source": [
    "#Creates a MEAN series grouped by Drug Regimen\n",
    "avg_DRgroup = clean_data.groupby(['Drug Regimen'])['Tumor Volume (mm3)'].mean()"
   ]
  },
  {
   "cell_type": "code",
   "execution_count": 8,
   "metadata": {},
   "outputs": [],
   "source": [
    "#Creates a MEDIAN series grouped by Drug Regimen\n",
    "median_DRgroup = clean_data.groupby(['Drug Regimen'])['Tumor Volume (mm3)'].median()"
   ]
  },
  {
   "cell_type": "code",
   "execution_count": 9,
   "metadata": {},
   "outputs": [],
   "source": [
    "#Creates VARIANCE series grouped by Drug Regimen\n",
    "var_DRgroup = clean_data.groupby(['Drug Regimen'])['Tumor Volume (mm3)'].var()"
   ]
  },
  {
   "cell_type": "code",
   "execution_count": 10,
   "metadata": {},
   "outputs": [],
   "source": [
    "#Creates a STD DEV series grouped by Drug Regimen\n",
    "STD_DRgroup = clean_data.groupby(['Drug Regimen'])['Tumor Volume (mm3)'].std()"
   ]
  },
  {
   "cell_type": "code",
   "execution_count": 11,
   "metadata": {
    "scrolled": true
   },
   "outputs": [],
   "source": [
    "#Creates an SEM series grouped by Drug Regimen\n",
    "SEM_DRgroup = clean_data.groupby(['Drug Regimen'])['Tumor Volume (mm3)'].sem()"
   ]
  },
  {
   "cell_type": "code",
   "execution_count": 12,
   "metadata": {},
   "outputs": [],
   "source": [
    "# Combines all series created to produce a df with all summary statistics (EASY METHOD)\n",
    "Tumor_Volume_stats = {\n",
    "    \"Mean\": avg_DRgroup, \n",
    "    \"Median\": median_DRgroup,\n",
    "    \"Variance\": var_DRgroup,\n",
    "    \"Standard Deviation\": STD_DRgroup,\n",
    "    \"SEM\": SEM_DRgroup\n",
    "}\n",
    "\n",
    "#Creates summary dataframe that includes dictionary of stats\n",
    "TV_Stats = pd.DataFrame(Tumor_Volume_stats)"
   ]
  },
  {
   "cell_type": "code",
   "execution_count": 13,
   "metadata": {},
   "outputs": [],
   "source": [
    "#Summary Statistics using groupby function (SHORTER/CLEANER METHOD)\n",
    "TV_Stats_groupby = clean_data.groupby(['Drug Regimen']).agg({'Tumor Volume (mm3)': ['mean', 'median', 'var', 'std', 'sem']})"
   ]
  },
  {
   "cell_type": "markdown",
   "metadata": {},
   "source": [
    "## Bar Plots (using PANDAS & MATPLOTLIB)"
   ]
  },
  {
   "cell_type": "markdown",
   "metadata": {},
   "source": [
    "### >> BAR Plotting in PANDAS "
   ]
  },
  {
   "cell_type": "code",
   "execution_count": 14,
   "metadata": {},
   "outputs": [
    {
     "data": {
      "text/plain": [
       "Index(['Capomulin', 'Ramicane', 'Ketapril', 'Naftisol', 'Zoniferol', 'Placebo',\n",
       "       'Stelasyn', 'Ceftamin', 'Infubinol', 'Propriva'],\n",
       "      dtype='object')"
      ]
     },
     "execution_count": 14,
     "metadata": {},
     "output_type": "execute_result"
    }
   ],
   "source": [
    "#Shows index locations of each drug regimen\n",
    "index_DR = clean_data['Drug Regimen'].value_counts().index\n",
    "index_DR"
   ]
  },
  {
   "cell_type": "code",
   "execution_count": 15,
   "metadata": {},
   "outputs": [],
   "source": [
    "#Treatment A = Capomulin\n",
    "#Filters the number of mice treated by Capomulin per timepoint\n",
    "treatmentA = clean_data['Drug Regimen']== index_DR[0]\n",
    "filterA = clean_data.loc[treatmentA, :]\n",
    "Capomulin = filterA.groupby([\"Timepoint\"])['Mouse ID'].count()\n",
    "\n",
    "#NOTE: Capomulin returns the series (cannot be used for plotting)\n",
    "#Returns an array type values of Capomulin, which is used in .plot\n",
    "Capomulin_counts = Capomulin.values"
   ]
  },
  {
   "cell_type": "code",
   "execution_count": 18,
   "metadata": {},
   "outputs": [],
   "source": [
    "#Treatment B = Ramicane\n",
    "#Filters the number of mice treated by Ramicane per timepoint\n",
    "treatmentB = clean_data['Drug Regimen']== index_DR[1]\n",
    "filterB = clean_data.loc[treatmentB, :]\n",
    "Ramicane = filterB.groupby([\"Timepoint\"])['Mouse ID'].count()\n",
    "\n",
    "#Returns an array type values of Ramicane, which is used in .plot\n",
    "Ramicane_counts = Ramicane.values"
   ]
  },
  {
   "cell_type": "code",
   "execution_count": 19,
   "metadata": {},
   "outputs": [],
   "source": [
    "#Treatment C = Ketapril\n",
    "#Filters the number of mice treated by Ketapril per timepoint\n",
    "treatmentC = clean_data['Drug Regimen']== index_DR[2]\n",
    "filterC = clean_data.loc[treatmentC, :]\n",
    "Ketapril = filterC.groupby([\"Timepoint\"])['Mouse ID'].count()\n",
    "\n",
    "#Returns an array type values of Ramicane, which is used in .plot\n",
    "Ketapril_counts = Ketapril.values"
   ]
  },
  {
   "cell_type": "code",
   "execution_count": 20,
   "metadata": {},
   "outputs": [],
   "source": [
    "#Treatment D = Naftisol\n",
    "#Filters the number of mice treated by Naftisol per timepoint\n",
    "treatmentD = clean_data['Drug Regimen']== index_DR[3]\n",
    "filterD = clean_data.loc[treatmentD, :]\n",
    "Naftisol = filterD.groupby([\"Timepoint\"])['Mouse ID'].count()\n",
    "\n",
    "#Returns an array type values of Naftisol, which is used in .plot\n",
    "Naftisol_counts = Naftisol.values"
   ]
  },
  {
   "cell_type": "code",
   "execution_count": 21,
   "metadata": {},
   "outputs": [],
   "source": [
    "#Treatment E = Zoniferol\n",
    "#Filters the number of mice treated by Zoniferol per timepoint\n",
    "treatmentE = clean_data['Drug Regimen']== index_DR[4]\n",
    "filterE = clean_data.loc[treatmentE, :]\n",
    "Zoniferol = filterE.groupby([\"Timepoint\"])['Mouse ID'].count()\n",
    "\n",
    "#Returns an array type values of Zoniferol, which is used in .plot\n",
    "Zoniferol_counts = Zoniferol.values"
   ]
  },
  {
   "cell_type": "code",
   "execution_count": 23,
   "metadata": {},
   "outputs": [],
   "source": [
    "#Treatment F = Stelasyn\n",
    "#Filters the number of mice treated by Stelasyn per timepoint\n",
    "treatmentF = clean_data['Drug Regimen']== index_DR[5]\n",
    "filterF = clean_data.loc[treatmentF, :]\n",
    "Stelasyn = filterF.groupby([\"Timepoint\"])['Mouse ID'].count()\n",
    "\n",
    "#Returns an array type values of Stelasyn, which is used in .plot\n",
    "Stelasyn_counts = Stelasyn.values"
   ]
  },
  {
   "cell_type": "code",
   "execution_count": 24,
   "metadata": {},
   "outputs": [],
   "source": [
    "#Treatment G = Placebo\n",
    "#Filters the number of mice treated by Placebo per timepoint\n",
    "treatmentG = clean_data['Drug Regimen']== index_DR[6]\n",
    "filterG = clean_data.loc[treatmentG, :]\n",
    "Placebo = filterG.groupby([\"Timepoint\"])['Mouse ID'].count()\n",
    "\n",
    "#Returns an array type values of Placebo, which is used in .plot\n",
    "Placebo_counts = Placebo.values"
   ]
  },
  {
   "cell_type": "code",
   "execution_count": 25,
   "metadata": {},
   "outputs": [],
   "source": [
    "#Treatment H = Ceftamin\n",
    "#Filters the number of mice treated by Ceftamin per timepoint\n",
    "treatmentH = clean_data['Drug Regimen']== index_DR[7]\n",
    "filterH = clean_data.loc[treatmentH, :]\n",
    "Ceftamin = filterH.groupby([\"Timepoint\"])['Mouse ID'].count()\n",
    "\n",
    "#Returns an array type values of Ceftamin, which is used in .plot\n",
    "Ceftamin_counts = Ceftamin.values"
   ]
  },
  {
   "cell_type": "code",
   "execution_count": 26,
   "metadata": {},
   "outputs": [],
   "source": [
    "#Treatment I = Infubinol\n",
    "#Filters the number of mice treated by Infubinol per timepoint\n",
    "treatmentI = clean_data['Drug Regimen']== index_DR[8]\n",
    "filterI = clean_data.loc[treatmentI, :]\n",
    "Infubinol = filterI.groupby([\"Timepoint\"])['Mouse ID'].count()\n",
    "\n",
    "#Returns an array type values of Infubinol, which is used in .plot\n",
    "Infubinol_counts = Infubinol.values"
   ]
  },
  {
   "cell_type": "code",
   "execution_count": 36,
   "metadata": {},
   "outputs": [
    {
     "data": {
      "text/plain": [
       "array([24, 23, 21, 15, 15, 13, 12,  9,  9,  7], dtype=int64)"
      ]
     },
     "execution_count": 36,
     "metadata": {},
     "output_type": "execute_result"
    }
   ],
   "source": [
    "#Treatment J = Propriva\n",
    "#Filters the number of mice treated by Propriva per timepoint\n",
    "treatmentJ = clean_data['Drug Regimen']== index_DR[9]\n",
    "filterJ = clean_data.loc[treatmentJ, :]\n",
    "Propriva = filterJ.groupby([\"Timepoint\"])['Mouse ID'].count()\n",
    "\n",
    "#Returns an array type values of Propriva, which is used in .plot\n",
    "Propriva_counts = Propriva.values\n",
    "Propriva_counts"
   ]
  },
  {
   "cell_type": "code",
   "execution_count": 35,
   "metadata": {},
   "outputs": [
    {
     "data": {
      "text/plain": [
       "<matplotlib.legend.Legend at 0x2095c5e8bc8>"
      ]
     },
     "execution_count": 35,
     "metadata": {},
     "output_type": "execute_result"
    },
    {
     "data": {
      "image/png": "[encoded data removed]",
      "text/plain": [
       "<Figure size 2160x720 with 1 Axes>"
      ]
     },
     "metadata": {
      "needs_background": "light"
     },
     "output_type": "display_data"
    }
   ],
   "source": [
    "#Set labels for x-axis (STACKED)\n",
    "labels = ['0', '5', '10', '15', '20', '25', '30', '35', '40', '45']\n",
    "\n",
    "#Create df\n",
    "mice_pertimepts_byDR = pd.DataFrame({ \n",
    "    'Timepoints': labels, \n",
    "    'Capomulin': Capomulin_counts,\n",
    "    'Ramicane': Ramicane_counts,\n",
    "    'Ketapril': Ketapril_counts,\n",
    "    'Naftisol': Naftisol_counts,\n",
    "    'Zoniferol': Zoniferol_counts,\n",
    "    'Placebo': Placebo_counts,\n",
    "    'Stelasyn': Stelasyn_counts,\n",
    "    'Ceftamin': Ceftamin_counts,\n",
    "    'Infubinol': Infubinol_counts,\n",
    "    'Propriva': Propriva_counts    \n",
    "}) \n",
    "#Plot the graph\n",
    "mice_pertimepts_byDR.plot(kind= 'bar', x='Timepoints', \n",
    "                          y=['Capomulin', 'Ramicane', 'Ketapril', 'Naftisol', 'Zoniferol','Placebo', 'Stelasyn', 'Ceftamin','Infubinol', 'Propriva'],\n",
    "                          width= 0.70, fontsize=18, stacked=True, figsize=(30, 10)) \n",
    "\n",
    "#Adds titles, axis labels, and legend with modifications in font sizes (did plt since .plot doesn't fix fontsize)\n",
    "plt.title('Mice Participation by Timepoints for each Drug Regimens', fontsize=20)\n",
    "plt.xlabel('Timepoints', fontsize=20)\n",
    "plt.ylabel('Number of Mice', fontsize=20)\n",
    "plt.legend(fontsize=15)\n"
   ]
  },
  {
   "cell_type": "code",
   "execution_count": 48,
   "metadata": {},
   "outputs": [
    {
     "data": {
      "text/plain": [
       "<matplotlib.legend.Legend at 0x2095e9b3e08>"
      ]
     },
     "execution_count": 48,
     "metadata": {},
     "output_type": "execute_result"
    },
    {
     "data": {
      "image/png": "[encoded data removed]",
      "text/plain": [
       "<Figure size 2160x720 with 1 Axes>"
      ]
     },
     "metadata": {
      "needs_background": "light"
     },
     "output_type": "display_data"
    }
   ],
   "source": [
    "#Plot the graph (UNSTACKED)\n",
    "mice_pertimepts_byDR.plot(kind= 'bar', x='Timepoints', \n",
    "                          y=['Capomulin', 'Ramicane', 'Ketapril', 'Naftisol', 'Zoniferol','Placebo', 'Stelasyn', 'Infubinol', 'Ceftamin', 'Propriva'],\n",
    "                          width= 0.70, fontsize=18, figsize=(30, 10)) \n",
    "\n",
    "plt.title('Mice Participation by Timepoints for each Drug Regimens', fontsize=20)\n",
    "plt.xlabel('Timepoints', fontsize=25)\n",
    "plt.ylabel('Number of Mice', fontsize=25)\n",
    "plt.legend(fontsize=15)\n"
   ]
  },
  {
   "cell_type": "markdown",
   "metadata": {},
   "source": [
    "### >> BAR Plotting in MATPLOTLIB "
   ]
  },
  {
   "cell_type": "code",
   "execution_count": 49,
   "metadata": {},
   "outputs": [
    {
     "data": {
      "text/plain": [
       "array([ 0,  5, 10, 15, 20, 25, 30, 35, 40, 45], dtype=int64)"
      ]
     },
     "execution_count": 49,
     "metadata": {},
     "output_type": "execute_result"
    }
   ],
   "source": [
    "#Returns all unique timepoint values as an array ~ to be used for x-axis labels\n",
    "time_points = clean_data['Timepoint'].unique()\n",
    "time_points"
   ]
  },
  {
   "cell_type": "code",
   "execution_count": null,
   "metadata": {},
   "outputs": [],
   "source": [
    "plt.figure(figsize=(30,10))\n",
    "width_bar = 0.08\n"
   ]
  },
  {
   "cell_type": "code",
   "execution_count": 30,
   "metadata": {},
   "outputs": [
    {
     "data": {
      "image/png": "[encoded data removed]",
      "text/plain": [
       "<Figure size 2160x720 with 1 Axes>"
      ]
     },
     "metadata": {
      "needs_background": "light"
     },
     "output_type": "display_data"
    }
   ],
   "source": [
    "# Generate a bar plot showing the number of mice per time point for each treatment throughout the course of the study using PYPLOT.\n",
    "\n",
    "plt.figure(figsize=(30,10))\n",
    "width_bar = 0.08\n",
    "\n",
    "#loop to position bar graphs\n",
    "bar1_cap = np.arange(len(time_points)) \n",
    "bar2_ram = [i+width_bar for i in bar1_cap]\n",
    "bar3_ket = [i+width_bar for i in bar2_ram]\n",
    "bar4_naf = [i+width_bar for i in bar3_ket]\n",
    "bar5_zon = [i+width_bar for i in bar4_naf]\n",
    "bar6_pla = [i+width_bar for i in bar5_zon]\n",
    "bar7_ste = [i+width_bar for i in bar6_pla]\n",
    "bar8_inf = [i+width_bar for i in bar7_ste]\n",
    "bar9_cef = [i+width_bar for i in bar8_inf]\n",
    "bar10_pro = [i+width_bar for i in bar9_cef]\n",
    "\n",
    "#plotting each bars\n",
    "plt.bar(bar1_cap, Capomulin_counts, width_bar, edgecolor='white', label=\"Capomulin\")\n",
    "plt.bar(bar2_ram, Ramicane_counts, width_bar, edgecolor='white', label=\"Ramicane\")\n",
    "plt.bar(bar3_ket, Ketapril_counts, width_bar, edgecolor='white', label=\"Ketapril\")\n",
    "plt.bar(bar4_naf, Naftisol_counts, width_bar, edgecolor='white', label=\"Naftisol\")\n",
    "plt.bar(bar5_zon, Zoniferol_counts, width_bar, edgecolor='white', label=\"Zoniferol\")\n",
    "plt.bar(bar6_pla, Placebo_counts, width_bar, edgecolor='white', label=\"Placebo\")\n",
    "plt.bar(bar7_ste, Stelasyn_counts, width_bar, edgecolor='white', label=\"Stelasyn\")\n",
    "plt.bar(bar8_inf, Infubinol_counts, width_bar, edgecolor='white', label=\"Infubinol\")\n",
    "plt.bar(bar9_cef, Ceftamin_counts, width_bar, edgecolor='white', label=\"Ceftamin\")\n",
    "plt.bar(bar10_pro, Propriva_counts, width_bar, edgecolor='white', label=\"Propriva\")\n",
    "\n",
    "plt.title('Mice Participation by Timepoints for each Drug Regimens', fontsize=30)\n",
    "plt.xlabel('Timepoints', fontsize=30)\n",
    "plt.ylabel('Number of Mice', fontsize=30)\n",
    "\n",
    "#Set tick location to center\n",
    "tick_locations = [value+0.4 for value in bar1_cap]\n",
    "plt.xticks(tick_locations, time_points, rotation=\"vertical\", fontsize=25)\n",
    "plt.yticks(fontsize=25)\n",
    "\n",
    "plt.ylim(0,30)\n",
    "plt.legend(fontsize=18)\n",
    "plt.tight_layout()\n",
    "plt.show()"
   ]
  },
  {
   "cell_type": "markdown",
   "metadata": {},
   "source": [
    "## Pie Plots"
   ]
  },
  {
   "cell_type": "code",
   "execution_count": 31,
   "metadata": {},
   "outputs": [
    {
     "data": {
      "text/plain": [
       "<pandas.core.groupby.generic.DataFrameGroupBy object at 0x000002A10322FC08>"
      ]
     },
     "execution_count": 31,
     "metadata": {},
     "output_type": "execute_result"
    }
   ],
   "source": [
    "gender_group = clean_data.groupby([\"Sex\"])\n",
    "gender_group"
   ]
  },
  {
   "cell_type": "code",
   "execution_count": 32,
   "metadata": {},
   "outputs": [
    {
     "data": {
      "text/plain": [
       "Text(0, 0.5, '')"
      ]
     },
     "execution_count": 32,
     "metadata": {},
     "output_type": "execute_result"
    },
    {
     "data": {
      "image/png": "[encoded data removed]",
      "text/plain": [
       "<Figure size 360x360 with 1 Axes>"
      ]
     },
     "metadata": {},
     "output_type": "display_data"
    }
   ],
   "source": [
    "# Generate a pie plot showing the distribution of female versus male mice using pandas\n",
    "unique_count = gender_group['Mouse ID'].nunique()\n",
    "unique_count\n",
    "\n",
    "unique_count.plot(kind='pie', title='Study Participation by Gender', autopct='%1.1f%%', figsize=(5, 5), explode= (0.05, 0), startangle=45)\n",
    "plt.ylabel('')"
   ]
  },
  {
   "cell_type": "code",
   "execution_count": 33,
   "metadata": {},
   "outputs": [
    {
     "data": {
      "image/png": "[encoded data removed]",
      "text/plain": [
       "<Figure size 360x360 with 1 Axes>"
      ]
     },
     "metadata": {},
     "output_type": "display_data"
    }
   ],
   "source": [
    "# Generate a pie plot showing the distribution of female versus male mice using pyplot\n",
    "genders = gender_group['Mouse ID'].unique()\n",
    "gender_map = genders.map(len)\n",
    "\n",
    "explode = (0.05, 0)\n",
    "plt.figure(figsize=(5, 5))\n",
    "plt.pie(gender_map, labels=['Female','Male'], explode=explode, autopct=\"%1.1f%%\", startangle=45)\n",
    "plt.ylabel('Gender Distribution')\n",
    "plt.show()"
   ]
  },
  {
   "cell_type": "markdown",
   "metadata": {},
   "source": [
    "## Quartiles, Outliers and Boxplots"
   ]
  },
  {
   "cell_type": "markdown",
   "metadata": {},
   "source": [
    "#### Calculations of IQRs of 4 Top Drug Regimens: Capomulin, Ceftamin, Infubinol and Ramicane"
   ]
  },
  {
   "cell_type": "code",
   "execution_count": 6,
   "metadata": {},
   "outputs": [
    {
     "data": {
      "text/plain": [
       "array(['Ramicane', 'Capomulin', 'Infubinol', 'Placebo', 'Ceftamin',\n",
       "       'Stelasyn', 'Zoniferol', 'Ketapril', 'Propriva', 'Naftisol'],\n",
       "      dtype=object)"
      ]
     },
     "execution_count": 6,
     "metadata": {},
     "output_type": "execute_result"
    }
   ],
   "source": [
    "#use later in getting total volume of top 4\n",
    "treatments_df = clean_data[\"Drug Regimen\"].unique()\n",
    "treatments_df"
   ]
  },
  {
   "cell_type": "code",
   "execution_count": 34,
   "metadata": {},
   "outputs": [
    {
     "data": {
      "text/html": [
       "<div>\n",
       "<style scoped>\n",
       "    .dataframe tbody tr th:only-of-type {\n",
       "        vertical-align: middle;\n",
       "    }\n",
       "\n",
       "    .dataframe tbody tr th {\n",
       "        vertical-align: top;\n",
       "    }\n",
       "\n",
       "    .dataframe thead th {\n",
       "        text-align: right;\n",
       "    }\n",
       "</style>\n",
       "<table border=\"1\" class=\"dataframe\">\n",
       "  <thead>\n",
       "    <tr style=\"text-align: right;\">\n",
       "      <th></th>\n",
       "      <th>Drug Regimen</th>\n",
       "      <th>Mouse ID</th>\n",
       "      <th>Timepoint</th>\n",
       "      <th>Tumor Volume (mm3)</th>\n",
       "      <th>Weight (g)</th>\n",
       "    </tr>\n",
       "  </thead>\n",
       "  <tbody>\n",
       "    <tr>\n",
       "      <th>0</th>\n",
       "      <td>Ramicane</td>\n",
       "      <td>k403</td>\n",
       "      <td>0</td>\n",
       "      <td>45.000000</td>\n",
       "      <td>16</td>\n",
       "    </tr>\n",
       "    <tr>\n",
       "      <th>1</th>\n",
       "      <td>Ramicane</td>\n",
       "      <td>k403</td>\n",
       "      <td>5</td>\n",
       "      <td>38.825898</td>\n",
       "      <td>16</td>\n",
       "    </tr>\n",
       "    <tr>\n",
       "      <th>2</th>\n",
       "      <td>Ramicane</td>\n",
       "      <td>k403</td>\n",
       "      <td>10</td>\n",
       "      <td>35.014271</td>\n",
       "      <td>16</td>\n",
       "    </tr>\n",
       "    <tr>\n",
       "      <th>3</th>\n",
       "      <td>Ramicane</td>\n",
       "      <td>k403</td>\n",
       "      <td>15</td>\n",
       "      <td>34.223992</td>\n",
       "      <td>16</td>\n",
       "    </tr>\n",
       "    <tr>\n",
       "      <th>4</th>\n",
       "      <td>Ramicane</td>\n",
       "      <td>k403</td>\n",
       "      <td>20</td>\n",
       "      <td>32.997729</td>\n",
       "      <td>16</td>\n",
       "    </tr>\n",
       "    <tr>\n",
       "      <th>...</th>\n",
       "      <td>...</td>\n",
       "      <td>...</td>\n",
       "      <td>...</td>\n",
       "      <td>...</td>\n",
       "      <td>...</td>\n",
       "    </tr>\n",
       "    <tr>\n",
       "      <th>1868</th>\n",
       "      <td>Infubinol</td>\n",
       "      <td>z581</td>\n",
       "      <td>25</td>\n",
       "      <td>54.316407</td>\n",
       "      <td>25</td>\n",
       "    </tr>\n",
       "    <tr>\n",
       "      <th>1869</th>\n",
       "      <td>Infubinol</td>\n",
       "      <td>z581</td>\n",
       "      <td>30</td>\n",
       "      <td>56.286750</td>\n",
       "      <td>25</td>\n",
       "    </tr>\n",
       "    <tr>\n",
       "      <th>1870</th>\n",
       "      <td>Infubinol</td>\n",
       "      <td>z581</td>\n",
       "      <td>35</td>\n",
       "      <td>58.628399</td>\n",
       "      <td>25</td>\n",
       "    </tr>\n",
       "    <tr>\n",
       "      <th>1871</th>\n",
       "      <td>Infubinol</td>\n",
       "      <td>z581</td>\n",
       "      <td>40</td>\n",
       "      <td>60.053740</td>\n",
       "      <td>25</td>\n",
       "    </tr>\n",
       "    <tr>\n",
       "      <th>1872</th>\n",
       "      <td>Infubinol</td>\n",
       "      <td>z581</td>\n",
       "      <td>45</td>\n",
       "      <td>62.754451</td>\n",
       "      <td>25</td>\n",
       "    </tr>\n",
       "  </tbody>\n",
       "</table>\n",
       "<p>814 rows × 5 columns</p>\n",
       "</div>"
      ],
      "text/plain": [
       "     Drug Regimen Mouse ID  Timepoint  Tumor Volume (mm3)  Weight (g)\n",
       "0        Ramicane     k403          0           45.000000          16\n",
       "1        Ramicane     k403          5           38.825898          16\n",
       "2        Ramicane     k403         10           35.014271          16\n",
       "3        Ramicane     k403         15           34.223992          16\n",
       "4        Ramicane     k403         20           32.997729          16\n",
       "...           ...      ...        ...                 ...         ...\n",
       "1868    Infubinol     z581         25           54.316407          25\n",
       "1869    Infubinol     z581         30           56.286750          25\n",
       "1870    Infubinol     z581         35           58.628399          25\n",
       "1871    Infubinol     z581         40           60.053740          25\n",
       "1872    Infubinol     z581         45           62.754451          25\n",
       "\n",
       "[814 rows x 5 columns]"
      ]
     },
     "execution_count": 34,
     "metadata": {},
     "output_type": "execute_result"
    }
   ],
   "source": [
    "#Calculate the final tumor volume of each mouse across four of the most promising treatment regimens: Capomulin, Ramicane, Infubinol, and Ceftamin. \n",
    "best_treatments = treatmentA | treatmentI | treatmentH | treatmentB\n",
    "bestDR_byTVols = clean_data.loc[best_treatments,\n",
    "    [\"Drug Regimen\", \"Mouse ID\", \"Timepoint\", \"Tumor Volume (mm3)\", \"Weight (g)\"]\n",
    "]\n",
    "bestDR_byTVols"
   ]
  },
  {
   "cell_type": "code",
   "execution_count": 35,
   "metadata": {},
   "outputs": [
    {
     "data": {
      "text/plain": [
       "array(['Ramicane', 'Capomulin', 'Infubinol', 'Ceftamin'], dtype=object)"
      ]
     },
     "execution_count": 35,
     "metadata": {},
     "output_type": "execute_result"
    }
   ],
   "source": [
    "#for plotting\n",
    "Top_Drug_Regimens = bestDR_byTVols[\"Drug Regimen\"].unique()\n",
    "Top_Drug_Regimens"
   ]
  },
  {
   "cell_type": "code",
   "execution_count": 36,
   "metadata": {},
   "outputs": [
    {
     "data": {
      "text/html": [
       "<div>\n",
       "<style scoped>\n",
       "    .dataframe tbody tr th:only-of-type {\n",
       "        vertical-align: middle;\n",
       "    }\n",
       "\n",
       "    .dataframe tbody tr th {\n",
       "        vertical-align: top;\n",
       "    }\n",
       "\n",
       "    .dataframe thead th {\n",
       "        text-align: right;\n",
       "    }\n",
       "</style>\n",
       "<table border=\"1\" class=\"dataframe\">\n",
       "  <thead>\n",
       "    <tr style=\"text-align: right;\">\n",
       "      <th></th>\n",
       "      <th>Drug Regimen</th>\n",
       "      <th>Mouse ID</th>\n",
       "      <th>Tumor Volume (mm3)</th>\n",
       "      <th>Weight (g)</th>\n",
       "    </tr>\n",
       "  </thead>\n",
       "  <tbody>\n",
       "    <tr>\n",
       "      <th>9</th>\n",
       "      <td>Ramicane</td>\n",
       "      <td>k403</td>\n",
       "      <td>22.050126</td>\n",
       "      <td>16</td>\n",
       "    </tr>\n",
       "    <tr>\n",
       "      <th>19</th>\n",
       "      <td>Capomulin</td>\n",
       "      <td>s185</td>\n",
       "      <td>23.343598</td>\n",
       "      <td>17</td>\n",
       "    </tr>\n",
       "    <tr>\n",
       "      <th>29</th>\n",
       "      <td>Capomulin</td>\n",
       "      <td>x401</td>\n",
       "      <td>28.484033</td>\n",
       "      <td>15</td>\n",
       "    </tr>\n",
       "    <tr>\n",
       "      <th>39</th>\n",
       "      <td>Capomulin</td>\n",
       "      <td>m601</td>\n",
       "      <td>28.430964</td>\n",
       "      <td>17</td>\n",
       "    </tr>\n",
       "    <tr>\n",
       "      <th>49</th>\n",
       "      <td>Ramicane</td>\n",
       "      <td>g791</td>\n",
       "      <td>29.128472</td>\n",
       "      <td>16</td>\n",
       "    </tr>\n",
       "    <tr>\n",
       "      <th>...</th>\n",
       "      <td>...</td>\n",
       "      <td>...</td>\n",
       "      <td>...</td>\n",
       "      <td>...</td>\n",
       "    </tr>\n",
       "    <tr>\n",
       "      <th>1797</th>\n",
       "      <td>Ceftamin</td>\n",
       "      <td>x822</td>\n",
       "      <td>61.386660</td>\n",
       "      <td>29</td>\n",
       "    </tr>\n",
       "    <tr>\n",
       "      <th>1813</th>\n",
       "      <td>Infubinol</td>\n",
       "      <td>y163</td>\n",
       "      <td>67.685569</td>\n",
       "      <td>27</td>\n",
       "    </tr>\n",
       "    <tr>\n",
       "      <th>1845</th>\n",
       "      <td>Ceftamin</td>\n",
       "      <td>y769</td>\n",
       "      <td>68.594745</td>\n",
       "      <td>27</td>\n",
       "    </tr>\n",
       "    <tr>\n",
       "      <th>1855</th>\n",
       "      <td>Ceftamin</td>\n",
       "      <td>y865</td>\n",
       "      <td>64.729837</td>\n",
       "      <td>26</td>\n",
       "    </tr>\n",
       "    <tr>\n",
       "      <th>1872</th>\n",
       "      <td>Infubinol</td>\n",
       "      <td>z581</td>\n",
       "      <td>62.754451</td>\n",
       "      <td>25</td>\n",
       "    </tr>\n",
       "  </tbody>\n",
       "</table>\n",
       "<p>63 rows × 4 columns</p>\n",
       "</div>"
      ],
      "text/plain": [
       "     Drug Regimen Mouse ID  Tumor Volume (mm3)  Weight (g)\n",
       "9        Ramicane     k403           22.050126          16\n",
       "19      Capomulin     s185           23.343598          17\n",
       "29      Capomulin     x401           28.484033          15\n",
       "39      Capomulin     m601           28.430964          17\n",
       "49       Ramicane     g791           29.128472          16\n",
       "...           ...      ...                 ...         ...\n",
       "1797     Ceftamin     x822           61.386660          29\n",
       "1813    Infubinol     y163           67.685569          27\n",
       "1845     Ceftamin     y769           68.594745          27\n",
       "1855     Ceftamin     y865           64.729837          26\n",
       "1872    Infubinol     z581           62.754451          25\n",
       "\n",
       "[63 rows x 4 columns]"
      ]
     },
     "execution_count": 36,
     "metadata": {},
     "output_type": "execute_result"
    }
   ],
   "source": [
    "final_time = bestDR_byTVols.loc[bestDR_byTVols[\"Timepoint\"] == 45, \n",
    "                                [\"Drug Regimen\", \"Mouse ID\", \"Tumor Volume (mm3)\", \"Weight (g)\"]\n",
    "                               ]\n",
    "final_time"
   ]
  },
  {
   "cell_type": "code",
   "execution_count": 37,
   "metadata": {},
   "outputs": [
    {
     "data": {
      "text/plain": [
       "array([22.05012627, 29.12847181, 30.27623175, 30.56462509, 30.63869575,\n",
       "       31.56046955, 31.09533505, 33.39765251, 32.97852192, 33.56240217,\n",
       "       36.13485243, 38.81036633, 37.22565033, 36.37451039, 37.31123552,\n",
       "       38.4076183 , 40.65900627, 40.66771292, 45.22086888, 43.0475426 ])"
      ]
     },
     "execution_count": 37,
     "metadata": {},
     "output_type": "execute_result"
    }
   ],
   "source": [
    "##Ramicane tumor volumes\n",
    "Ram_TVols = final_time.loc[final_time[\"Drug Regimen\"] == Top_Drug_Regimens[0], :]\n",
    "\n",
    "#For boxplot graph\n",
    "Ramicane_array = Ram_TVols[\"Tumor Volume (mm3)\"].values\n",
    "Ramicane_array"
   ]
  },
  {
   "cell_type": "code",
   "execution_count": 38,
   "metadata": {},
   "outputs": [
    {
     "name": "stdout",
     "output_type": "stream",
     "text": [
      "30.981175224999998\n",
      "38.5083053075\n"
     ]
    },
    {
     "data": {
      "text/plain": [
       "7.527130082500005"
      ]
     },
     "execution_count": 38,
     "metadata": {},
     "output_type": "execute_result"
    }
   ],
   "source": [
    "#Calculation of RAMICANE IQR\n",
    "Ram_quart = Ram_TVols['Tumor Volume (mm3)'].quantile([.25,.5,.75])\n",
    "ram_lowerq = Ram_quart[0.25]\n",
    "print(ram_lowerq)\n",
    "ram_upperq = Ram_quart[0.75]\n",
    "print(ram_upperq)\n",
    "Ramicane_IQR = ram_upperq-ram_lowerq\n",
    "Ramicane_IQR"
   ]
  },
  {
   "cell_type": "code",
   "execution_count": 39,
   "metadata": {},
   "outputs": [
    {
     "data": {
      "text/plain": [
       "array([17, 15, 17, 17, 17, 17, 19, 17, 20, 21, 19, 19, 21, 22, 23, 21, 22,\n",
       "       23, 21, 25, 24], dtype=int64)"
      ]
     },
     "execution_count": 39,
     "metadata": {},
     "output_type": "execute_result"
    }
   ],
   "source": [
    "Cap_TVols = final_time.loc[final_time[\"Drug Regimen\"] == Top_Drug_Regimens[1], :]\n",
    "\n",
    "#For boxplot graph\n",
    "Capomulin_array = Cap_TVols[\"Tumor Volume (mm3)\"].values\n",
    "Capomulin_array\n",
    "\n",
    "Cap_TVols_weight =  Cap_TVols[\"Weight (g)\"].values\n",
    "Cap_TVols_weight"
   ]
  },
  {
   "cell_type": "code",
   "execution_count": 40,
   "metadata": {},
   "outputs": [
    {
     "name": "stdout",
     "output_type": "stream",
     "text": [
      "32.37735684\n",
      "40.1592203\n"
     ]
    },
    {
     "data": {
      "text/plain": [
       "7.781863460000004"
      ]
     },
     "execution_count": 40,
     "metadata": {},
     "output_type": "execute_result"
    }
   ],
   "source": [
    "#Calculation of CAPOMULIN IQR\n",
    "Cap_quart = Cap_TVols['Tumor Volume (mm3)'].quantile([.25,.5,.75])\n",
    "cap_lowerq = Cap_quart[0.25]\n",
    "print(cap_lowerq)\n",
    "cap_upperq = Cap_quart[0.75]\n",
    "print(cap_upperq)\n",
    "Capomulin_IQR = cap_upperq-cap_lowerq\n",
    "Capomulin_IQR"
   ]
  },
  {
   "cell_type": "code",
   "execution_count": 41,
   "metadata": {},
   "outputs": [
    {
     "data": {
      "text/plain": [
       "array([67.97341878, 65.52574285, 66.08306589, 72.2267309 , 62.43540402,\n",
       "       60.91876652, 66.19691151, 67.68556862, 62.75445141])"
      ]
     },
     "execution_count": 41,
     "metadata": {},
     "output_type": "execute_result"
    }
   ],
   "source": [
    "#INFUBINOL tumor volumes (IQR not the same when calculated by excel, tested if sorting will change the result but didnt)\n",
    "Inf_TVols = final_time.loc[final_time[\"Drug Regimen\"] == Top_Drug_Regimens[2], :]\n",
    "\n",
    "#For boxplot graph\n",
    "Infubinol_array = Inf_TVols[\"Tumor Volume (mm3)\"].values\n",
    "Infubinol_array"
   ]
  },
  {
   "cell_type": "code",
   "execution_count": 42,
   "metadata": {},
   "outputs": [
    {
     "data": {
      "text/plain": [
       "4.9311172099999965"
      ]
     },
     "execution_count": 42,
     "metadata": {},
     "output_type": "execute_result"
    }
   ],
   "source": [
    "#Calculation of INFUBINOL IQR\n",
    "Inf_quart = Inf_TVols['Tumor Volume (mm3)'].quantile([.25,.5,.75])\n",
    "inf_lowerq = Inf_quart[0.25]\n",
    "inf_upperq = Inf_quart[0.75]\n",
    "Infubinol_IQR = inf_upperq-inf_lowerq\n",
    "Infubinol_IQR"
   ]
  },
  {
   "cell_type": "code",
   "execution_count": 43,
   "metadata": {},
   "outputs": [
    {
     "data": {
      "text/plain": [
       "array([62.99935619, 61.84902336, 68.92318457, 67.74866174, 59.85195552,\n",
       "       64.29983003, 59.74190064, 61.43389223, 67.52748237, 64.63494887,\n",
       "       61.38666032, 68.59474498, 64.72983655])"
      ]
     },
     "execution_count": 43,
     "metadata": {},
     "output_type": "execute_result"
    }
   ],
   "source": [
    "#CEFTAMIN tumor volumes\n",
    "cef_TVols = final_time.loc[final_time[\"Drug Regimen\"] == Top_Drug_Regimens[3], :]\n",
    "\n",
    "#For boxplot graph\n",
    "Ceftamin_array = cef_TVols[\"Tumor Volume (mm3)\"].values\n",
    "Ceftamin_array"
   ]
  },
  {
   "cell_type": "code",
   "execution_count": 44,
   "metadata": {},
   "outputs": [
    {
     "data": {
      "text/plain": [
       "6.093590140000003"
      ]
     },
     "execution_count": 44,
     "metadata": {},
     "output_type": "execute_result"
    }
   ],
   "source": [
    "#Calculation of CEFTAMIN IQR\n",
    "Cef_quart = cef_TVols['Tumor Volume (mm3)'].quantile([.25,.5,.75])\n",
    "cef_lowerq = Cef_quart[0.25]\n",
    "cef_upperq = Cef_quart[0.75]\n",
    "Ceftamin_IQR = cef_upperq-cef_lowerq\n",
    "Ceftamin_IQR"
   ]
  },
  {
   "cell_type": "code",
   "execution_count": 45,
   "metadata": {},
   "outputs": [],
   "source": [
    "#Print results:\n"
   ]
  },
  {
   "cell_type": "code",
   "execution_count": 46,
   "metadata": {},
   "outputs": [
    {
     "data": {
      "image/png": "[encoded data removed]",
      "text/plain": [
       "<Figure size 1080x720 with 1 Axes>"
      ]
     },
     "metadata": {
      "needs_background": "light"
     },
     "output_type": "display_data"
    }
   ],
   "source": [
    "# Generate a box plot of the final tumor volume of each mouse across four regimens of interest\n",
    "plt.figure(figsize=(15, 10))\n",
    "boxplot_data = [Ramicane_array, Capomulin_array, Ceftamin_array, Infubinol_array]\n",
    "\n",
    "flierprops = dict(marker='o', markerfacecolor='r', markersize=12,\n",
    "                  linestyle='none', markeredgecolor='g')\n",
    "plt.boxplot(boxplot_data, meanline=True, patch_artist=True, whis=1.0, showfliers=True, flierprops=flierprops)\n",
    "\n",
    "plt.title('Total Volumes at Final Timepoint by Top Performing Drug Regimens', fontsize=20)\n",
    "plt.ylabel('Tumor Volume (mm3)', fontsize=20)\n",
    "plt.yticks(fontsize=17)\n",
    "plt.tight_layout()\n",
    "\n",
    "plt.xlabel('Drug Regimens', fontsize=20)\n",
    "ticks=np.arange(len(Top_Drug_Regimens))\n",
    "plt.xticks(1 + ticks, Top_Drug_Regimens, rotation=40 , fontsize=20)\n",
    "plt.show()"
   ]
  },
  {
   "cell_type": "markdown",
   "metadata": {},
   "source": [
    "## Line and Scatter Plots"
   ]
  },
  {
   "cell_type": "code",
   "execution_count": 47,
   "metadata": {},
   "outputs": [
    {
     "data": {
      "text/plain": [
       "array([45.        , 43.87849569, 37.61494768, 38.17723195, 36.86687576,\n",
       "       33.94994037, 32.95967078, 28.32853059, 25.47214326, 23.34359787])"
      ]
     },
     "execution_count": 47,
     "metadata": {},
     "output_type": "execute_result"
    }
   ],
   "source": [
    "Capomulin_sample = filterA.loc[filterA[\"Mouse ID\"]=='s185', :]\n",
    "line_yaxis = Capomulin_sample[\"Tumor Volume (mm3)\"].values\n",
    "line_yaxis"
   ]
  },
  {
   "cell_type": "code",
   "execution_count": 48,
   "metadata": {},
   "outputs": [
    {
     "data": {
      "image/png": "[encoded data removed]",
      "text/plain": [
       "<Figure size 720x576 with 1 Axes>"
      ]
     },
     "metadata": {
      "needs_background": "light"
     },
     "output_type": "display_data"
    }
   ],
   "source": [
    "# Generate a line plot of time point versus tumor volume for a mouse treated with Capomulin\n",
    "plt.figure(figsize=(10,8))\n",
    "line_xaxis = np.arange(start=0, stop=50, step=5)\n",
    "line_xaxis\n",
    "\n",
    "plt.plot(line_xaxis, line_yaxis, \"go--\")\n",
    "plt.show()"
   ]
  },
  {
   "cell_type": "code",
   "execution_count": 49,
   "metadata": {},
   "outputs": [
    {
     "data": {
      "text/html": [
       "<div>\n",
       "<style scoped>\n",
       "    .dataframe tbody tr th:only-of-type {\n",
       "        vertical-align: middle;\n",
       "    }\n",
       "\n",
       "    .dataframe tbody tr th {\n",
       "        vertical-align: top;\n",
       "    }\n",
       "\n",
       "    .dataframe thead th {\n",
       "        text-align: right;\n",
       "    }\n",
       "</style>\n",
       "<table border=\"1\" class=\"dataframe\">\n",
       "  <thead>\n",
       "    <tr style=\"text-align: right;\">\n",
       "      <th></th>\n",
       "      <th>Drug Regimen</th>\n",
       "      <th>Mouse ID</th>\n",
       "      <th>Timepoint</th>\n",
       "      <th>Tumor Volume (mm3)</th>\n",
       "      <th>Weight (g)</th>\n",
       "    </tr>\n",
       "  </thead>\n",
       "  <tbody>\n",
       "    <tr>\n",
       "      <th>10</th>\n",
       "      <td>Capomulin</td>\n",
       "      <td>s185</td>\n",
       "      <td>0</td>\n",
       "      <td>45.000000</td>\n",
       "      <td>17</td>\n",
       "    </tr>\n",
       "    <tr>\n",
       "      <th>11</th>\n",
       "      <td>Capomulin</td>\n",
       "      <td>s185</td>\n",
       "      <td>5</td>\n",
       "      <td>43.878496</td>\n",
       "      <td>17</td>\n",
       "    </tr>\n",
       "    <tr>\n",
       "      <th>12</th>\n",
       "      <td>Capomulin</td>\n",
       "      <td>s185</td>\n",
       "      <td>10</td>\n",
       "      <td>37.614948</td>\n",
       "      <td>17</td>\n",
       "    </tr>\n",
       "    <tr>\n",
       "      <th>13</th>\n",
       "      <td>Capomulin</td>\n",
       "      <td>s185</td>\n",
       "      <td>15</td>\n",
       "      <td>38.177232</td>\n",
       "      <td>17</td>\n",
       "    </tr>\n",
       "    <tr>\n",
       "      <th>14</th>\n",
       "      <td>Capomulin</td>\n",
       "      <td>s185</td>\n",
       "      <td>20</td>\n",
       "      <td>36.866876</td>\n",
       "      <td>17</td>\n",
       "    </tr>\n",
       "    <tr>\n",
       "      <th>...</th>\n",
       "      <td>...</td>\n",
       "      <td>...</td>\n",
       "      <td>...</td>\n",
       "      <td>...</td>\n",
       "      <td>...</td>\n",
       "    </tr>\n",
       "    <tr>\n",
       "      <th>440</th>\n",
       "      <td>Capomulin</td>\n",
       "      <td>i557</td>\n",
       "      <td>45</td>\n",
       "      <td>47.685963</td>\n",
       "      <td>24</td>\n",
       "    </tr>\n",
       "    <tr>\n",
       "      <th>1452</th>\n",
       "      <td>Capomulin</td>\n",
       "      <td>r157</td>\n",
       "      <td>0</td>\n",
       "      <td>45.000000</td>\n",
       "      <td>25</td>\n",
       "    </tr>\n",
       "    <tr>\n",
       "      <th>1453</th>\n",
       "      <td>Capomulin</td>\n",
       "      <td>r157</td>\n",
       "      <td>5</td>\n",
       "      <td>45.597064</td>\n",
       "      <td>25</td>\n",
       "    </tr>\n",
       "    <tr>\n",
       "      <th>1454</th>\n",
       "      <td>Capomulin</td>\n",
       "      <td>r157</td>\n",
       "      <td>10</td>\n",
       "      <td>46.059608</td>\n",
       "      <td>25</td>\n",
       "    </tr>\n",
       "    <tr>\n",
       "      <th>1455</th>\n",
       "      <td>Capomulin</td>\n",
       "      <td>r157</td>\n",
       "      <td>15</td>\n",
       "      <td>46.539206</td>\n",
       "      <td>25</td>\n",
       "    </tr>\n",
       "  </tbody>\n",
       "</table>\n",
       "<p>230 rows × 5 columns</p>\n",
       "</div>"
      ],
      "text/plain": [
       "     Drug Regimen Mouse ID  Timepoint  Tumor Volume (mm3)  Weight (g)\n",
       "10      Capomulin     s185          0           45.000000          17\n",
       "11      Capomulin     s185          5           43.878496          17\n",
       "12      Capomulin     s185         10           37.614948          17\n",
       "13      Capomulin     s185         15           38.177232          17\n",
       "14      Capomulin     s185         20           36.866876          17\n",
       "...           ...      ...        ...                 ...         ...\n",
       "440     Capomulin     i557         45           47.685963          24\n",
       "1452    Capomulin     r157          0           45.000000          25\n",
       "1453    Capomulin     r157          5           45.597064          25\n",
       "1454    Capomulin     r157         10           46.059608          25\n",
       "1455    Capomulin     r157         15           46.539206          25\n",
       "\n",
       "[230 rows x 5 columns]"
      ]
     },
     "execution_count": 49,
     "metadata": {},
     "output_type": "execute_result"
    }
   ],
   "source": [
    "Capomulin_samp_weight = bestDR_byTVols.loc[bestDR_byTVols[\"Drug Regimen\"]=='Capomulin', :]\n",
    "Capomulin_samp_weight"
   ]
  },
  {
   "cell_type": "code",
   "execution_count": 50,
   "metadata": {},
   "outputs": [
    {
     "data": {
      "text/html": [
       "<div>\n",
       "<style scoped>\n",
       "    .dataframe tbody tr th:only-of-type {\n",
       "        vertical-align: middle;\n",
       "    }\n",
       "\n",
       "    .dataframe tbody tr th {\n",
       "        vertical-align: top;\n",
       "    }\n",
       "\n",
       "    .dataframe thead th {\n",
       "        text-align: right;\n",
       "    }\n",
       "</style>\n",
       "<table border=\"1\" class=\"dataframe\">\n",
       "  <thead>\n",
       "    <tr style=\"text-align: right;\">\n",
       "      <th></th>\n",
       "      <th>Mouse ID</th>\n",
       "      <th>Weight (g)</th>\n",
       "    </tr>\n",
       "  </thead>\n",
       "  <tbody>\n",
       "    <tr>\n",
       "      <th>19</th>\n",
       "      <td>s185</td>\n",
       "      <td>17</td>\n",
       "    </tr>\n",
       "    <tr>\n",
       "      <th>29</th>\n",
       "      <td>x401</td>\n",
       "      <td>15</td>\n",
       "    </tr>\n",
       "    <tr>\n",
       "      <th>39</th>\n",
       "      <td>m601</td>\n",
       "      <td>17</td>\n",
       "    </tr>\n",
       "    <tr>\n",
       "      <th>104</th>\n",
       "      <td>u364</td>\n",
       "      <td>17</td>\n",
       "    </tr>\n",
       "    <tr>\n",
       "      <th>124</th>\n",
       "      <td>y793</td>\n",
       "      <td>17</td>\n",
       "    </tr>\n",
       "    <tr>\n",
       "      <th>134</th>\n",
       "      <td>r554</td>\n",
       "      <td>17</td>\n",
       "    </tr>\n",
       "    <tr>\n",
       "      <th>144</th>\n",
       "      <td>m957</td>\n",
       "      <td>19</td>\n",
       "    </tr>\n",
       "    <tr>\n",
       "      <th>164</th>\n",
       "      <td>t565</td>\n",
       "      <td>17</td>\n",
       "    </tr>\n",
       "    <tr>\n",
       "      <th>204</th>\n",
       "      <td>i738</td>\n",
       "      <td>20</td>\n",
       "    </tr>\n",
       "    <tr>\n",
       "      <th>224</th>\n",
       "      <td>w914</td>\n",
       "      <td>21</td>\n",
       "    </tr>\n",
       "    <tr>\n",
       "      <th>244</th>\n",
       "      <td>g288</td>\n",
       "      <td>19</td>\n",
       "    </tr>\n",
       "    <tr>\n",
       "      <th>282</th>\n",
       "      <td>l897</td>\n",
       "      <td>19</td>\n",
       "    </tr>\n",
       "    <tr>\n",
       "      <th>299</th>\n",
       "      <td>b742</td>\n",
       "      <td>21</td>\n",
       "    </tr>\n",
       "    <tr>\n",
       "      <th>309</th>\n",
       "      <td>b128</td>\n",
       "      <td>22</td>\n",
       "    </tr>\n",
       "    <tr>\n",
       "      <th>337</th>\n",
       "      <td>j119</td>\n",
       "      <td>23</td>\n",
       "    </tr>\n",
       "    <tr>\n",
       "      <th>350</th>\n",
       "      <td>v923</td>\n",
       "      <td>21</td>\n",
       "    </tr>\n",
       "    <tr>\n",
       "      <th>360</th>\n",
       "      <td>g316</td>\n",
       "      <td>22</td>\n",
       "    </tr>\n",
       "    <tr>\n",
       "      <th>370</th>\n",
       "      <td>s710</td>\n",
       "      <td>23</td>\n",
       "    </tr>\n",
       "    <tr>\n",
       "      <th>380</th>\n",
       "      <td>l509</td>\n",
       "      <td>21</td>\n",
       "    </tr>\n",
       "    <tr>\n",
       "      <th>390</th>\n",
       "      <td>r944</td>\n",
       "      <td>25</td>\n",
       "    </tr>\n",
       "    <tr>\n",
       "      <th>440</th>\n",
       "      <td>i557</td>\n",
       "      <td>24</td>\n",
       "    </tr>\n",
       "  </tbody>\n",
       "</table>\n",
       "</div>"
      ],
      "text/plain": [
       "    Mouse ID  Weight (g)\n",
       "19      s185          17\n",
       "29      x401          15\n",
       "39      m601          17\n",
       "104     u364          17\n",
       "124     y793          17\n",
       "134     r554          17\n",
       "144     m957          19\n",
       "164     t565          17\n",
       "204     i738          20\n",
       "224     w914          21\n",
       "244     g288          19\n",
       "282     l897          19\n",
       "299     b742          21\n",
       "309     b128          22\n",
       "337     j119          23\n",
       "350     v923          21\n",
       "360     g316          22\n",
       "370     s710          23\n",
       "380     l509          21\n",
       "390     r944          25\n",
       "440     i557          24"
      ]
     },
     "execution_count": 50,
     "metadata": {},
     "output_type": "execute_result"
    }
   ],
   "source": [
    "final_time.loc[final_time[\"Drug Regimen\"] == \"Capomulin\", [\"Mouse ID\", \"Weight (g)\"]]"
   ]
  },
  {
   "cell_type": "code",
   "execution_count": 54,
   "metadata": {},
   "outputs": [
    {
     "data": {
      "text/plain": [
       "array([41.96363563, 40.0836993 , 36.50597276, 41.99009661, 44.6133439 ,\n",
       "       44.80580968, 39.14105275, 44.46523635, 43.21692461, 44.43447379,\n",
       "       42.50726104, 34.8474699 , 39.04981645, 45.79896951, 36.50921205,\n",
       "       43.36736445, 34.55914339, 42.80373304, 39.3287251 , 39.88749519,\n",
       "       41.5815951 , 41.38482521, 41.35245228, 36.18203956, 38.50682925])"
      ]
     },
     "execution_count": 54,
     "metadata": {},
     "output_type": "execute_result"
    }
   ],
   "source": [
    "#y-axis for scatter plot\n",
    "Cap_TVols_splot = Capomulin_samp_weight.groupby([\"Mouse ID\"])['Tumor Volume (mm3)'].mean()\n",
    "avg_Cap_Vols = Cap_TVols_splot.values\n",
    "avg_Cap_Vols"
   ]
  },
  {
   "cell_type": "code",
   "execution_count": 55,
   "metadata": {},
   "outputs": [
    {
     "data": {
      "text/plain": [
       "array([22, 21, 17, 19, 22, 24, 20, 23, 21, 21, 19, 17, 19, 25, 17, 25, 17,\n",
       "       23, 17, 17, 21, 23, 21, 15, 17], dtype=int64)"
      ]
     },
     "execution_count": 55,
     "metadata": {},
     "output_type": "execute_result"
    }
   ],
   "source": [
    "Cap_weight_splot = Capomulin_samp_weight.groupby([\"Mouse ID\"])['Weight (g)'].mean()\n",
    "avg_Cap_weight = Cap_weight_splot.values\n",
    "avg_Cap_weight"
   ]
  },
  {
   "cell_type": "code",
   "execution_count": 79,
   "metadata": {},
   "outputs": [
    {
     "data": {
      "image/png": "[encoded data removed]",
      "text/plain": [
       "<Figure size 720x576 with 1 Axes>"
      ]
     },
     "metadata": {
      "needs_background": "light"
     },
     "output_type": "display_data"
    }
   ],
   "source": [
    "# Generate a scatter plot of mouse weight versus AVERAGE tumor volume for the Capomulin regimen\n",
    "\n",
    "plt.figure(figsize=(10,8))\n",
    "\n",
    "\n",
    "#y-axis=avg tumor volume\n",
    "plt.scatter(\n",
    "    avg_Cap_weight, \n",
    "    avg_Cap_Vols, \n",
    "    marker=\"o\", \n",
    "    facecolors=\"blue\", \n",
    "    edgecolors=\"black\",\n",
    "    alpha=0.8\n",
    ")\n",
    "plt.title('Capomulin Treatment: Mouse Weight & Average Tumor Volume', fontsize=18)\n",
    "plt.xlabel('Mouse Weight (g)', fontsize=15)\n",
    "plt.ylabel('Average Tumor Volume (mm3)', fontsize=15)\n",
    "\n",
    "plt.ylim(32,max(avg_Cap_Vols)+3)\n",
    "plt.xlim(14,max(avg_Cap_weight)+2)\n",
    "plt.show()\n"
   ]
  },
  {
   "cell_type": "markdown",
   "metadata": {},
   "source": [
    "## Correlation and Regression"
   ]
  },
  {
   "cell_type": "code",
   "execution_count": 87,
   "metadata": {},
   "outputs": [
    {
     "name": "stdout",
     "output_type": "stream",
     "text": [
      "y = 0.95 x +  21.55\n"
     ]
    },
    {
     "data": {
      "image/png": "[encoded data removed]",
      "text/plain": [
       "<Figure size 720x576 with 1 Axes>"
      ]
     },
     "metadata": {
      "needs_background": "light"
     },
     "output_type": "display_data"
    }
   ],
   "source": [
    "# Calculate the correlation coefficient and linear regression model for mouse weight and average tumor volume for the Capomulin regimen\n",
    "\n",
    "plt.figure(figsize=(10,8))\n",
    "\n",
    "#x-values\n",
    "avg_Cap_weight\n",
    "#y-values\n",
    "avg_Cap_Vols\n",
    "\n",
    "# Perform linear regression\n",
    "(slope, intercept, rvalue, pvalue, stderr) = st.linregress(avg_Cap_weight, avg_Cap_Vols)   \n",
    "\n",
    "# Get x/y values for linear regression linear\n",
    "regress_values = avg_Cap_weight * slope + intercept                                        \n",
    "print(f\"y = {(round(slope,2))} x +  {(round(intercept,2))}\")\n",
    "plt.scatter(avg_Cap_weight,avg_Cap_Vols)\n",
    "\n",
    " # Add linear regression line to plot\n",
    "plt.plot(avg_Cap_weight,regress_values,\"r-\")                                              \n",
    "plt.annotate(line_eq,(21,41),fontsize=15,color=\"red\")\n",
    "plt.xlabel('Mouse Weight (g)', fontsize=15)\n",
    "plt.ylabel('Average Tumor Volume (mm3)', fontsize=15)\n",
    "plt.show()"
   ]
  },
  {
   "cell_type": "code",
   "execution_count": null,
   "metadata": {},
   "outputs": [],
   "source": []
  }
 ],
 "metadata": {
  "anaconda-cloud": {},
  "kernelspec": {
   "display_name": "Python 3",
   "language": "python",
   "name": "python3"
  },
  "language_info": {
   "codemirror_mode": {
    "name": "ipython",
    "version": 3
   },
   "file_extension": ".py",
   "mimetype": "text/x-python",
   "name": "python",
   "nbconvert_exporter": "python",
   "pygments_lexer": "ipython3",
   "version": "3.7.4"
  }
 },
 "nbformat": 4,
 "nbformat_minor": 4
}
